{
 "cells": [
  {
   "cell_type": "markdown",
   "metadata": {},
   "source": [
    "# This file contains python code to calculate LOWESS curves and potential inflection ages for this study's Sr isotope data"
   ]
  },
  {
   "cell_type": "markdown",
   "metadata": {},
   "source": [
    "## Define modules and import data"
   ]
  },
  {
   "cell_type": "code",
   "execution_count": 1,
   "metadata": {},
   "outputs": [],
   "source": [
    "#Import python modules\n",
    "\n",
    "from __future__ import division\n",
    "import numpy as np\n",
    "import pandas as pd\n",
    "import matplotlib.pyplot as plt\n",
    "%matplotlib inline\n",
    "import statsmodels.api as sm\n",
    "from scipy.stats import sem, t\n",
    "lowess = sm.nonparametric.lowess\n",
    "from scipy.stats import sem, t\n",
    "from scipy.interpolate import interp1d # for interpolation of new data points"
   ]
  },
  {
   "cell_type": "code",
   "execution_count": 7,
   "metadata": {},
   "outputs": [],
   "source": [
    "#Import and Define Data\n",
    "\n",
    "filePoz = pd.read_excel('../PozarySr.xlsx')\n",
    "Pozarydata = filePoz[['Age','Sr','Error']]\n",
    "data_extract_Sr = Pozarydata['Sr']\n",
    "data_extract_age = Pozarydata['Age']\n",
    "data_extract_error = Pozarydata['Error']\n",
    "\n",
    "Sr = data_extract_Sr[0:19].to_numpy()\n",
    "Age = data_extract_age[0:19].to_numpy()\n",
    "Error = data_extract_error.to_numpy()"
   ]
  },
  {
   "cell_type": "code",
   "execution_count": 6,
   "metadata": {},
   "outputs": [
    {
     "data": {
      "text/plain": [
       "<matplotlib.collections.PathCollection at 0x230c683eac0>"
      ]
     },
     "execution_count": 6,
     "metadata": {},
     "output_type": "execute_result"
    },
    {
     "data": {
      "image/png": "[encoded data removed]",
      "text/plain": [
       "<Figure size 640x480 with 1 Axes>"
      ]
     },
     "metadata": {},
     "output_type": "display_data"
    }
   ],
   "source": [
    "#Scatter Plot\n",
    "\n",
    "plt.scatter(Sr, Age)"
   ]
  },
  {
   "cell_type": "markdown",
   "metadata": {},
   "source": [
    "## Calculate LOWESS"
   ]
  },
  {
   "cell_type": "code",
   "execution_count": null,
   "metadata": {},
   "outputs": [],
   "source": [
    "#Calculate LOWESS\n",
    "\n",
    "fraction = 0.7 #fraction defines 'window' of data used to calculate LOWESS\n",
    "Srlowess = lowess(Sr, Age, frac=fraction) \n",
    "\n",
    "lowessdata = pd.DataFrame({'Age':Srlowess[:,0],'LOWESS':Srlowess[:,1]})\n",
    "\n",
    "lowessdata"
   ]
  },
  {
   "cell_type": "markdown",
   "metadata": {},
   "source": [
    "## Calculate LOWESS first and second derivatives"
   ]
  },
  {
   "cell_type": "code",
   "execution_count": null,
   "metadata": {},
   "outputs": [],
   "source": [
    "#LOWESS First Derivative\n",
    "\n",
    "n = len(lowessdata)\n",
    "        \n",
    "#GTS 2020       \n",
    "lowessfirstderiv = np.zeros(n)\n",
    "\n",
    "for i in range(n):\n",
    "    if i == 0:\n",
    "        lowessfirstderiv[i] = np.NaN\n",
    "    else:\n",
    "        lowessfirstderiv[i] = (lowessdata['LOWESS'][i] - lowessdata['LOWESS'][i-1])/\\\n",
    "        (lowessdata['Age'][i] - lowessdata['Age'][i-1])\n",
    "            \n",
    "        \n",
    "#Make dataframe\n",
    "lowessfirstderivdata = pd.DataFrame({'Age':lowessdata['Age'],'LOWESS 1D':lowessfirstderiv})\n",
    "\n",
    "lowessfirstderivdata"
   ]
  },
  {
   "cell_type": "code",
   "execution_count": null,
   "metadata": {},
   "outputs": [],
   "source": [
    "#LOWESS Second Derivative\n",
    "\n",
    "n = len(lowessdata)\n",
    "\n",
    "lowesssecondderiv = np.zeros(n)\n",
    "\n",
    "for i in range(n):\n",
    "    if i == 0:\n",
    "        lowesssecondderiv[i]=np.NaN\n",
    "    else:\n",
    "        lowesssecondderiv[i] = (lowessfirstderivdata['LOWESS 1D'][i] - lowessfirstderivdata['LOWESS 1D'][i-1])/\\\n",
    "        (lowessfirstderivdata['Age'][i] - lowessfirstderivdata['Age'][i-1])\n",
    "\n",
    "#Make dataframe\n",
    "lowesssecondderivdata = pd.DataFrame({'Age':lowessdata['Age'],'LOWESS 2D':lowesssecondderiv})\n",
    "\n",
    "lowesssecondderivdata"
   ]
  },
  {
   "cell_type": "code",
   "execution_count": null,
   "metadata": {},
   "outputs": [],
   "source": [
    "#Combine Data\n",
    "\n",
    "lowessgradientdata = pd.DataFrame({'Age':lowessdata['Age'],'LOWESS':lowessdata['LOWESS'],\\\n",
    "                              'LOWESS 1D': lowessfirstderiv,'LOWESS 2D':lowesssecondderiv})\n",
    "\n",
    "lowessgradientdata"
   ]
  },
  {
   "cell_type": "code",
   "execution_count": null,
   "metadata": {},
   "outputs": [],
   "source": [
    "#Plot LOWESS and Data\n",
    "\n",
    "xL = lowessgradientdata['LOWESS']\n",
    "yL = lowessgradientdata['Age']\n",
    "xS = Sr\n",
    "yS = Age\n",
    "\n",
    "fig, (ax1, ax2, ax3) = plt.subplots(1, 3, figsize=(10,10))\n",
    "\n",
    "ax1.errorbar(Sr, Age, xerr=Error, fmt=\"o\")\n",
    "ax1.plot(xL,yL)\n",
    "ax1.yaxis.get_ticklocs(minor=True)\n",
    "ax1.minorticks_on()\n",
    "ax1.set(xlabel='$\\mathregular{^{87}Sr/^{86}Sr}$')\n",
    "ax1.set(ylabel='Age (Mya)')\n",
    "ax1.xaxis.labelpad = 20\n",
    "\n",
    "ax2.plot(lowessgradientdata['LOWESS 1D'],lowessgradientdata['Age'])\n",
    "ax2.yaxis.set_ticklabels([])\n",
    "ax2.set(xlabel='First Derivative')\n",
    "ax2.xaxis.labelpad = 20\n",
    "\n",
    "ax3.plot(lowessgradientdata['LOWESS 2D'],lowessgradientdata['Age'])\n",
    "ax3.yaxis.set_ticklabels([])\n",
    "ax3.set(xlabel='Second Derivative')\n",
    "ax3.xaxis.labelpad = 20"
   ]
  },
  {
   "cell_type": "markdown",
   "metadata": {},
   "source": [
    "## Calculate inflection point\n",
    "\n",
    "We define the inflection point as the lowest value of the second derivative curve"
   ]
  },
  {
   "cell_type": "code",
   "execution_count": null,
   "metadata": {},
   "outputs": [],
   "source": [
    "#Find lowest value of second derivative curve\n",
    "\n",
    "print('The lowest value of the second derivative curve (with fraction =',fraction,') occurs at',\\\n",
    "      lowessgradientdata['Age'][lowessgradientdata['LOWESS 2D'].idxmin()],'Ma')\n"
   ]
  },
  {
   "cell_type": "code",
   "execution_count": null,
   "metadata": {},
   "outputs": [],
   "source": []
  }
 ],
 "metadata": {
  "kernelspec": {
   "display_name": "Python 3 (ipykernel)",
   "language": "python",
   "name": "python3"
  },
  "language_info": {
   "codemirror_mode": {
    "name": "ipython",
    "version": 3
   },
   "file_extension": ".py",
   "mimetype": "text/x-python",
   "name": "python",
   "nbconvert_exporter": "python",
   "pygments_lexer": "ipython3",
   "version": "3.9.13"
  }
 },
 "nbformat": 4,
 "nbformat_minor": 4
}
