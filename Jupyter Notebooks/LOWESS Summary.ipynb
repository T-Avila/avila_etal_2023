{
 "cells": [
  {
   "cell_type": "code",
   "execution_count": null,
   "id": "97542b23",
   "metadata": {},
   "outputs": [],
   "source": [
    "print('Maximum LOWESS 2D', lowessgradientdata['Age'][lowessgradientdata['LOWESS 2D'].idxmax()],'Ma')\n",
    "\n",
    "span = [0.35,0.4,0.45,0.5,0.55,0.6,0.65,0.7,0.75,0.8,0.85,0.9]\n",
    "\n",
    "LOWESS_Increase = [423.2,420.7,423.1,422.8,422.8,422.8,422.8,422.8,422.8,420.7,420.7,420.7]\n",
    "\n",
    "inflection_range = pd.DataFrame({'Span':span,'LOWESS_Increase':LOWESS_Increase})\n",
    "\n",
    "inflection_range"
   ]
  },
  {
   "cell_type": "code",
   "execution_count": null,
   "id": "92a1f0f6",
   "metadata": {},
   "outputs": [],
   "source": [
    "#Calculate Increase CI\n",
    "\n",
    "fi = LOWESS_Increase\n",
    "\n",
    "xi = stats.mean(fi)\n",
    "si = np.std(fi)\n",
    "mi = len(fi)\n",
    "dfi = n-1\n",
    "a95i = 2.179 #t value for 12 samples\n",
    "\n",
    "CI95i = (si/math.sqrt(mi))*a95i\n",
    "\n",
    "print('95% CI:',xi,'+/-',CI95i)\n",
    "print(min(fi))\n",
    "print(max(fi))\n",
    "print(mi)"
   ]
  }
 ],
 "metadata": {
  "kernelspec": {
   "display_name": "Python 3 (ipykernel)",
   "language": "python",
   "name": "python3"
  },
  "language_info": {
   "codemirror_mode": {
    "name": "ipython",
    "version": 3
   },
   "file_extension": ".py",
   "mimetype": "text/x-python",
   "name": "python",
   "nbconvert_exporter": "python",
   "pygments_lexer": "ipython3",
   "version": "3.9.13"
  }
 },
 "nbformat": 4,
 "nbformat_minor": 5
}
