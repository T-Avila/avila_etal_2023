{
 "cells": [
  {
   "cell_type": "code",
   "execution_count": 1,
   "id": "97542b23",
   "metadata": {},
   "outputs": [],
   "source": [
    "from __future__ import division\n",
    "import numpy as np\n",
    "import pandas as pd\n",
    "import statsmodels.api as sm\n",
    "from scipy.stats import sem, t\n",
    "from scipy.interpolate import interp1d # for interpolation of new data points\n",
    "import statistics as stats\n",
    "import math as math"
   ]
  },
  {
   "cell_type": "code",
   "execution_count": 2,
   "id": "1925dbc0",
   "metadata": {},
   "outputs": [],
   "source": [
    "# Prepare data sets\n",
    "\n",
    "# Import csv files\n",
    "file35 = pd.read_csv('../Results/inf_35.csv')\n",
    "file40 = pd.read_csv('../Results/inf_40.csv')\n",
    "file45 = pd.read_csv('../Results/inf_45.csv')\n",
    "file50 = pd.read_csv('../Results/inf_50.csv')\n",
    "file55 = pd.read_csv('../Results/inf_55.csv')\n",
    "file60 = pd.read_csv('../Results/inf_60.csv')\n",
    "file65 = pd.read_csv('../Results/inf_65.csv')\n",
    "file70 = pd.read_csv('../Results/inf_70.csv')\n",
    "file75 = pd.read_csv('../Results/inf_75.csv')\n",
    "file80 = pd.read_csv('../Results/inf_80.csv')\n",
    "file85 = pd.read_csv('../Results/inf_85.csv')\n",
    "file90 = pd.read_csv('../Results/inf_90.csv')\n",
    "\n",
    "dfSr = pd.concat([file35,file40,file45,file50,file55,file60,file65,file70,file75,file80,file85,file90], ignore_index='True')\n"
   ]
  },
  {
   "cell_type": "code",
   "execution_count": 3,
   "id": "92a1f0f6",
   "metadata": {},
   "outputs": [],
   "source": [
    "#Calculate Increase CI\n",
    "\n",
    "dfSr_inf = dfSr['Sr Inflection Age']\n",
    "\n",
    "xi = stats.mean(dfSr_inf)\n",
    "si = np.std(dfSr_inf)\n",
    "mi = len(dfSr_inf)\n",
    "a95i = 2.179 #t value for 12 samples\n",
    "\n",
    "CI95i = (si/math.sqrt(mi))*a95i"
   ]
  },
  {
   "cell_type": "code",
   "execution_count": 4,
   "id": "c72298c2",
   "metadata": {},
   "outputs": [
    {
     "name": "stdout",
     "output_type": "stream",
     "text": [
      "The 95% Confidence Interval for the inflection in Pozary Sr data is -421.59999999999997 Ma, +/- 0.4865620205699479 My\n",
      "The minimum possible age of inflection is -423.2\n",
      "The maximum possible age of inflection is -420.9\n"
     ]
    }
   ],
   "source": [
    "print('The 95% Confidence Interval for the inflection in Pozary Sr data is',xi,'Ma, +/-',CI95i,'My')\n",
    "print('The minimum possible age of inflection is',min(dfSr_inf))\n",
    "print('The maximum possible age of inflection is',max(dfSr_inf))\n",
    "\n"
   ]
  }
 ],
 "metadata": {
  "kernelspec": {
   "display_name": "Python 3 (ipykernel)",
   "language": "python",
   "name": "python3"
  },
  "language_info": {
   "codemirror_mode": {
    "name": "ipython",
    "version": 3
   },
   "file_extension": ".py",
   "mimetype": "text/x-python",
   "name": "python",
   "nbconvert_exporter": "python",
   "pygments_lexer": "ipython3",
   "version": "3.9.13"
  }
 },
 "nbformat": 4,
 "nbformat_minor": 5
}
