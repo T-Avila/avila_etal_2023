{
 "cells": [
  {
   "cell_type": "markdown",
   "id": "3e19ee20",
   "metadata": {},
   "source": [
    "# This file contains python code to run a Sr isotope box model; used to create Model 1 (Fig. 6 in manuscript)"
   ]
  },
  {
   "cell_type": "markdown",
   "id": "65e19ae8",
   "metadata": {},
   "source": [
    "## Define functions and parameters\n",
    "\n",
    "The following blocks of code define modules, parameters, and functions/equations needed for the model"
   ]
  },
  {
   "cell_type": "code",
   "execution_count": 1,
   "id": "8925a991",
   "metadata": {},
   "outputs": [],
   "source": [
    "# import python module\n",
    "import numpy as np\n",
    "import matplotlib.pyplot as plt\n",
    "from matplotlib.patches import Rectangle\n",
    "import pandas as pd"
   ]
  },
  {
   "cell_type": "code",
   "execution_count": 2,
   "id": "e794aa06",
   "metadata": {},
   "outputs": [],
   "source": [
    "# Functions\n",
    "# ---------\n",
    "def simNSr(jr, jh, jcarb):\n",
    "    \"\"\"\n",
    "    Strontium Mass Balance\n",
    "\n",
    "    Parameters\n",
    "    ----------\n",
    "    jr : float\n",
    "        Global riverine flux of Sr\n",
    "    jh : float\n",
    "        Hydrothermal flux of Sr.\n",
    "    jcarb : float\n",
    "        strontium uptake during carbonate deposition\n",
    "    \n",
    "    Returns\n",
    "    -------\n",
    "    nsr : float\n",
    "        Seawater Sr reservoir size in mol\n",
    "    \"\"\"\n",
    "    nsr = jr + jh - jcarb\n",
    "    return nsr\n",
    "\n",
    "# Isotopic mass balace equation\n",
    "def simSr(jr, rr, rsw, jh, rh, n):\n",
    "    \"\"\"\n",
    "\n",
    "    Strontium isotopic mass balance.\n",
    "\n",
    "    Parameters\n",
    "    ----------\n",
    "    jr : float\n",
    "        Global riverine flux of Sr\n",
    "    rr : float\n",
    "        Strontium isotopic ratio of global riverine flux.\n",
    "    rsw : float\n",
    "        Strontium isotopic ratio of seawater.\n",
    "    jh : float\n",
    "        Hydrothermal flux of Sr.\n",
    "    rh : float\n",
    "        Strontium isotopic ratio of hydrothermal flux (jh).\n",
    "    n : float\n",
    "        Strontium reservoir size of the ocean.\n",
    "\n",
    "    Returns\n",
    "    -------\n",
    "    rSr : float\n",
    "        Strontium isotopic ratio of seawater.\n",
    "\n",
    "    \"\"\"\n",
    "    rSr = (jr*(rr-rsw) + jh*(rh-rsw)) / n\n",
    "    return rSr\n",
    "\n",
    "# Function to run model\n",
    "def run_sim(nt, dt, age, jr, rr, rsw, jh, rh, n):\n",
    "    \"\"\"\n",
    "    \n",
    "    Solving diff. equations defined in simSr() using the forward Euler method.\n",
    "\n",
    "    Parameters\n",
    "    ----------\n",
    "    nt : int\n",
    "        number of time steps to run model\n",
    "    dt : float\n",
    "        the size of each time step\n",
    "    age : float\n",
    "        age in million years\n",
    "    jr : float\n",
    "        Global riverine flux of Sr\n",
    "    rr : float\n",
    "        Strontium isotopic ratio of global riverine flux.\n",
    "    rsw : float\n",
    "        Strontium isotopic ratio of seawater.\n",
    "    jh : float\n",
    "        Hydrothermal flux of Sr.\n",
    "    rh : float\n",
    "        Strontium isotopic ratio of hydrothermal flux (jh).\n",
    "    n : float\n",
    "        Strontium reservoir size of the ocean.\n",
    "\n",
    "    Returns\n",
    "    -------\n",
    "    rSw : float\n",
    "        Strontium isotopic ratio of seawater.\n",
    "        \n",
    "    \"\"\"\n",
    "    rsw0 = (jr[0]*rr[0] + jh[0]*rh[0])/(jr[0]+jh[0])\n",
    "    rsw[0] = rsw0\n",
    "\n",
    "\n",
    "    jcarb0 = jr[0] + jh[0]\n",
    "    k = jcarb0 / n[0]\n",
    "    jcarb = jcarb0\n",
    "    \n",
    "    for i in range(nt-1):\n",
    "        n[i+1] = n[i] + simNSr(jr[i], jh[i], jcarb)*dt\n",
    "        rsw[i+1] = rsw[i] + simSr(jr[i], rr[i], rsw[i], jh[i], rh[i], n[i])*dt\n",
    "        jcarb = k * n[i]\n",
    "    \n",
    "   \n",
    "    return rsw"
   ]
  },
  {
   "cell_type": "markdown",
   "id": "528ec508",
   "metadata": {},
   "source": [
    "## Define time and initial values\n",
    "\n",
    "The following blocks of code create the time array and assign variables their initial values"
   ]
  },
  {
   "cell_type": "code",
   "execution_count": 3,
   "id": "9c2ef1ed",
   "metadata": {},
   "outputs": [],
   "source": [
    "# Define array of time\n",
    "tmin = -435    \n",
    "tmax = -395\n",
    "nt = 100000     # number of steps\n",
    "dt = (tmax - tmin)*1e6 / nt    # size of each step\n",
    "time = np.linspace(0, (tmax - tmin)*1e6, nt)    # time array\n",
    "age = np.linspace(tmin, tmax, nt)             # age array (in Myr)"
   ]
  },
  {
   "cell_type": "code",
   "execution_count": 4,
   "id": "53d64e79",
   "metadata": {},
   "outputs": [],
   "source": [
    "# Initial values and parameters\n",
    "# -----------------------------\n",
    "# Riverine flux\n",
    "Jriv0 = 3.34e10 #(Jones and Jenkyns, 2001)\n",
    "Jriv = np.ones(nt) * Jriv0\n",
    "\n",
    "# Riverine isotopic ratio\n",
    "Rriv0 = 0.7107 # (Peucker-Ehrenbrink and Fiske, 2019); 0.7103-0.7108 \n",
    "Rriv = np.ones(nt) * Rriv0\n",
    "\n",
    "# Hydrothermal flux\n",
    "Jh0 = 1.5e10 #(Jones and Jenkyns, 2001)\n",
    "Jh = np.ones(nt) * Jh0\n",
    "\n",
    "# Hydrothermal isotopic ratio \n",
    "Rh0 = 0.7033 #(Jones and Jenkyns, 2001)\n",
    "Rh = np.ones(nt) * Rh0\n",
    "\n",
    "# Array to store isotopic ratio of seawater\n",
    "Rsw = np.zeros(nt)\n",
    "\n",
    "# Reservoir size \n",
    "N = np.ones(nt) * 1.24e17 #(Jones and Jenkyns, 2001)"
   ]
  },
  {
   "cell_type": "markdown",
   "id": "d7e182a6",
   "metadata": {},
   "source": [
    "## Define changing Rriv and Jh\n",
    "\n",
    "The following blocks of code define how Rriv and Jh will change over the course of the model. All other variables are kept constant at initial values"
   ]
  },
  {
   "cell_type": "code",
   "execution_count": 5,
   "id": "2dfc30d5",
   "metadata": {
    "scrolled": false
   },
   "outputs": [
    {
     "data": {
      "text/plain": [
       "[<matplotlib.lines.Line2D at 0x23a2c575340>]"
      ]
     },
     "execution_count": 5,
     "metadata": {},
     "output_type": "execute_result"
    },
    {
     "data": {
      "image/png": "[encoded data removed]",
      "text/plain": [
       "<Figure size 640x480 with 1 Axes>"
      ]
     },
     "metadata": {},
     "output_type": "display_data"
    }
   ],
   "source": [
    "# Define Rriv: best fit to data\n",
    "\n",
    "# Define time array\n",
    "timearrayriv = np.linspace(tmin, tmax, nt)\n",
    "\n",
    "# Define Rriv array\n",
    "Rriv = np.ones(nt)\n",
    "\n",
    "# Split Rriv array into intervals as defined by time steps\n",
    "pt1 = 27000\n",
    "pt2 = 40000\n",
    "pt3 = 66000\n",
    "\n",
    "# Define how Rriv will change within each interval\n",
    "inc = np.linspace(Rriv0,Rriv0+0.0008,pt1)\n",
    "Rriv[0:pt1] = inc\n",
    "\n",
    "Rriv[pt1:pt2] = Rriv[pt1-1]\n",
    "\n",
    "dec1 = np.linspace(Rriv[pt2-1],Rriv0-0.0008,pt3-pt2)\n",
    "Rriv[pt2:pt3] = dec1\n",
    "\n",
    "dec2 = np.linspace(Rriv[pt3-1],Rriv0-0.0009,nt-pt3)\n",
    "Rriv[pt3:len(Rriv)] = dec2\n",
    "\n",
    "# Plot\n",
    "plt.plot(timearrayriv, Rriv)"
   ]
  },
  {
   "cell_type": "code",
   "execution_count": 9,
   "id": "ef54e071",
   "metadata": {},
   "outputs": [
    {
     "ename": "FileNotFoundError",
     "evalue": "[Errno 2] No such file or directory: '..\\\\HaqSL.xlsx'",
     "output_type": "error",
     "traceback": [
      "\u001b[1;31m---------------------------------------------------------------------------\u001b[0m",
      "\u001b[1;31mFileNotFoundError\u001b[0m                         Traceback (most recent call last)",
      "\u001b[1;32m~\\AppData\\Local\\Temp\\ipykernel_21112\\546360955.py\u001b[0m in \u001b[0;36m<module>\u001b[1;34m\u001b[0m\n\u001b[0;32m      2\u001b[0m \u001b[1;33m\u001b[0m\u001b[0m\n\u001b[0;32m      3\u001b[0m \u001b[1;31m# Import Haq and Schutter data\u001b[0m\u001b[1;33m\u001b[0m\u001b[1;33m\u001b[0m\u001b[0m\n\u001b[1;32m----> 4\u001b[1;33m \u001b[0mfileHaq\u001b[0m \u001b[1;33m=\u001b[0m \u001b[0mpd\u001b[0m\u001b[1;33m.\u001b[0m\u001b[0mread_excel\u001b[0m\u001b[1;33m(\u001b[0m\u001b[1;34m'..\\HaqSL.xlsx'\u001b[0m\u001b[1;33m)\u001b[0m\u001b[1;33m\u001b[0m\u001b[1;33m\u001b[0m\u001b[0m\n\u001b[0m\u001b[0;32m      5\u001b[0m \u001b[0mHaqdata\u001b[0m \u001b[1;33m=\u001b[0m \u001b[0mfileHaq\u001b[0m\u001b[1;33m[\u001b[0m\u001b[1;33m[\u001b[0m\u001b[1;34m'Age'\u001b[0m\u001b[1;33m,\u001b[0m\u001b[1;34m'SL'\u001b[0m\u001b[1;33m]\u001b[0m\u001b[1;33m]\u001b[0m\u001b[1;33m\u001b[0m\u001b[1;33m\u001b[0m\u001b[0m\n\u001b[0;32m      6\u001b[0m \u001b[1;33m\u001b[0m\u001b[0m\n",
      "\u001b[1;32m~\\anaconda3\\lib\\site-packages\\pandas\\util\\_decorators.py\u001b[0m in \u001b[0;36mwrapper\u001b[1;34m(*args, **kwargs)\u001b[0m\n\u001b[0;32m    309\u001b[0m                     \u001b[0mstacklevel\u001b[0m\u001b[1;33m=\u001b[0m\u001b[0mstacklevel\u001b[0m\u001b[1;33m,\u001b[0m\u001b[1;33m\u001b[0m\u001b[1;33m\u001b[0m\u001b[0m\n\u001b[0;32m    310\u001b[0m                 )\n\u001b[1;32m--> 311\u001b[1;33m             \u001b[1;32mreturn\u001b[0m \u001b[0mfunc\u001b[0m\u001b[1;33m(\u001b[0m\u001b[1;33m*\u001b[0m\u001b[0margs\u001b[0m\u001b[1;33m,\u001b[0m \u001b[1;33m**\u001b[0m\u001b[0mkwargs\u001b[0m\u001b[1;33m)\u001b[0m\u001b[1;33m\u001b[0m\u001b[1;33m\u001b[0m\u001b[0m\n\u001b[0m\u001b[0;32m    312\u001b[0m \u001b[1;33m\u001b[0m\u001b[0m\n\u001b[0;32m    313\u001b[0m         \u001b[1;32mreturn\u001b[0m \u001b[0mwrapper\u001b[0m\u001b[1;33m\u001b[0m\u001b[1;33m\u001b[0m\u001b[0m\n",
      "\u001b[1;32m~\\anaconda3\\lib\\site-packages\\pandas\\io\\excel\\_base.py\u001b[0m in \u001b[0;36mread_excel\u001b[1;34m(io, sheet_name, header, names, index_col, usecols, squeeze, dtype, engine, converters, true_values, false_values, skiprows, nrows, na_values, keep_default_na, na_filter, verbose, parse_dates, date_parser, thousands, decimal, comment, skipfooter, convert_float, mangle_dupe_cols, storage_options)\u001b[0m\n\u001b[0;32m    455\u001b[0m     \u001b[1;32mif\u001b[0m \u001b[1;32mnot\u001b[0m \u001b[0misinstance\u001b[0m\u001b[1;33m(\u001b[0m\u001b[0mio\u001b[0m\u001b[1;33m,\u001b[0m \u001b[0mExcelFile\u001b[0m\u001b[1;33m)\u001b[0m\u001b[1;33m:\u001b[0m\u001b[1;33m\u001b[0m\u001b[1;33m\u001b[0m\u001b[0m\n\u001b[0;32m    456\u001b[0m         \u001b[0mshould_close\u001b[0m \u001b[1;33m=\u001b[0m \u001b[1;32mTrue\u001b[0m\u001b[1;33m\u001b[0m\u001b[1;33m\u001b[0m\u001b[0m\n\u001b[1;32m--> 457\u001b[1;33m         \u001b[0mio\u001b[0m \u001b[1;33m=\u001b[0m \u001b[0mExcelFile\u001b[0m\u001b[1;33m(\u001b[0m\u001b[0mio\u001b[0m\u001b[1;33m,\u001b[0m \u001b[0mstorage_options\u001b[0m\u001b[1;33m=\u001b[0m\u001b[0mstorage_options\u001b[0m\u001b[1;33m,\u001b[0m \u001b[0mengine\u001b[0m\u001b[1;33m=\u001b[0m\u001b[0mengine\u001b[0m\u001b[1;33m)\u001b[0m\u001b[1;33m\u001b[0m\u001b[1;33m\u001b[0m\u001b[0m\n\u001b[0m\u001b[0;32m    458\u001b[0m     \u001b[1;32melif\u001b[0m \u001b[0mengine\u001b[0m \u001b[1;32mand\u001b[0m \u001b[0mengine\u001b[0m \u001b[1;33m!=\u001b[0m \u001b[0mio\u001b[0m\u001b[1;33m.\u001b[0m\u001b[0mengine\u001b[0m\u001b[1;33m:\u001b[0m\u001b[1;33m\u001b[0m\u001b[1;33m\u001b[0m\u001b[0m\n\u001b[0;32m    459\u001b[0m         raise ValueError(\n",
      "\u001b[1;32m~\\anaconda3\\lib\\site-packages\\pandas\\io\\excel\\_base.py\u001b[0m in \u001b[0;36m__init__\u001b[1;34m(self, path_or_buffer, engine, storage_options)\u001b[0m\n\u001b[0;32m   1374\u001b[0m                 \u001b[0mext\u001b[0m \u001b[1;33m=\u001b[0m \u001b[1;34m\"xls\"\u001b[0m\u001b[1;33m\u001b[0m\u001b[1;33m\u001b[0m\u001b[0m\n\u001b[0;32m   1375\u001b[0m             \u001b[1;32melse\u001b[0m\u001b[1;33m:\u001b[0m\u001b[1;33m\u001b[0m\u001b[1;33m\u001b[0m\u001b[0m\n\u001b[1;32m-> 1376\u001b[1;33m                 ext = inspect_excel_format(\n\u001b[0m\u001b[0;32m   1377\u001b[0m                     \u001b[0mcontent_or_path\u001b[0m\u001b[1;33m=\u001b[0m\u001b[0mpath_or_buffer\u001b[0m\u001b[1;33m,\u001b[0m \u001b[0mstorage_options\u001b[0m\u001b[1;33m=\u001b[0m\u001b[0mstorage_options\u001b[0m\u001b[1;33m\u001b[0m\u001b[1;33m\u001b[0m\u001b[0m\n\u001b[0;32m   1378\u001b[0m                 )\n",
      "\u001b[1;32m~\\anaconda3\\lib\\site-packages\\pandas\\io\\excel\\_base.py\u001b[0m in \u001b[0;36minspect_excel_format\u001b[1;34m(content_or_path, storage_options)\u001b[0m\n\u001b[0;32m   1248\u001b[0m         \u001b[0mcontent_or_path\u001b[0m \u001b[1;33m=\u001b[0m \u001b[0mBytesIO\u001b[0m\u001b[1;33m(\u001b[0m\u001b[0mcontent_or_path\u001b[0m\u001b[1;33m)\u001b[0m\u001b[1;33m\u001b[0m\u001b[1;33m\u001b[0m\u001b[0m\n\u001b[0;32m   1249\u001b[0m \u001b[1;33m\u001b[0m\u001b[0m\n\u001b[1;32m-> 1250\u001b[1;33m     with get_handle(\n\u001b[0m\u001b[0;32m   1251\u001b[0m         \u001b[0mcontent_or_path\u001b[0m\u001b[1;33m,\u001b[0m \u001b[1;34m\"rb\"\u001b[0m\u001b[1;33m,\u001b[0m \u001b[0mstorage_options\u001b[0m\u001b[1;33m=\u001b[0m\u001b[0mstorage_options\u001b[0m\u001b[1;33m,\u001b[0m \u001b[0mis_text\u001b[0m\u001b[1;33m=\u001b[0m\u001b[1;32mFalse\u001b[0m\u001b[1;33m\u001b[0m\u001b[1;33m\u001b[0m\u001b[0m\n\u001b[0;32m   1252\u001b[0m     ) as handle:\n",
      "\u001b[1;32m~\\anaconda3\\lib\\site-packages\\pandas\\io\\common.py\u001b[0m in \u001b[0;36mget_handle\u001b[1;34m(path_or_buf, mode, encoding, compression, memory_map, is_text, errors, storage_options)\u001b[0m\n\u001b[0;32m    793\u001b[0m         \u001b[1;32melse\u001b[0m\u001b[1;33m:\u001b[0m\u001b[1;33m\u001b[0m\u001b[1;33m\u001b[0m\u001b[0m\n\u001b[0;32m    794\u001b[0m             \u001b[1;31m# Binary mode\u001b[0m\u001b[1;33m\u001b[0m\u001b[1;33m\u001b[0m\u001b[0m\n\u001b[1;32m--> 795\u001b[1;33m             \u001b[0mhandle\u001b[0m \u001b[1;33m=\u001b[0m \u001b[0mopen\u001b[0m\u001b[1;33m(\u001b[0m\u001b[0mhandle\u001b[0m\u001b[1;33m,\u001b[0m \u001b[0mioargs\u001b[0m\u001b[1;33m.\u001b[0m\u001b[0mmode\u001b[0m\u001b[1;33m)\u001b[0m\u001b[1;33m\u001b[0m\u001b[1;33m\u001b[0m\u001b[0m\n\u001b[0m\u001b[0;32m    796\u001b[0m         \u001b[0mhandles\u001b[0m\u001b[1;33m.\u001b[0m\u001b[0mappend\u001b[0m\u001b[1;33m(\u001b[0m\u001b[0mhandle\u001b[0m\u001b[1;33m)\u001b[0m\u001b[1;33m\u001b[0m\u001b[1;33m\u001b[0m\u001b[0m\n\u001b[0;32m    797\u001b[0m \u001b[1;33m\u001b[0m\u001b[0m\n",
      "\u001b[1;31mFileNotFoundError\u001b[0m: [Errno 2] No such file or directory: '..\\\\HaqSL.xlsx'"
     ]
    }
   ],
   "source": [
    "#Define Jh: following Haq and Schutter (2008) sea level curve\n",
    "\n",
    "# Import Haq and Schutter data\n",
    "fileHaq = pd.read_excel('..\\HaqSL.xlsx')\n",
    "Haqdata = fileHaq[['Age','SL']]\n",
    "\n",
    "HaqAge = Haqdata.Age.to_numpy()\n",
    "HaqSL = Haqdata.SL.to_numpy()\n",
    "\n",
    "#Interpolate\n",
    "from scipy import interpolate\n",
    "\n",
    "f = interpolate.interp1d(HaqAge, HaqSL)\n",
    "sea_level = f(age)\n",
    "\n",
    "#Plot\n",
    "plt.plot(age, sea_level)\n",
    "plt.xlabel('Age (Ma)')\n",
    "plt.ylabel('Sea Level (m above modern)')"
   ]
  },
  {
   "cell_type": "code",
   "execution_count": null,
   "id": "0bbab36c",
   "metadata": {},
   "outputs": [],
   "source": [
    "#Define Jh cont.\n",
    "\n",
    "# normalize sea level relative to mean\n",
    "sl_norm = sea_level / sea_level.mean()\n",
    "sl_norm_min = sea_level / sea_level[0]\n",
    "\n",
    "plt.plot(age, sl_norm_min)\n",
    "plt.xlabel('Age (Ma)')\n",
    "plt.ylabel('Normalized Sea Level')"
   ]
  },
  {
   "cell_type": "code",
   "execution_count": null,
   "id": "8fbef50f",
   "metadata": {},
   "outputs": [],
   "source": [
    "#Define Jh cont.\n",
    "\n",
    "Jh = sl_norm * Jh0\n",
    "\n",
    "plt.plot(age, Jh)"
   ]
  },
  {
   "cell_type": "markdown",
   "id": "5aba4dec",
   "metadata": {},
   "source": [
    "## Run Model"
   ]
  },
  {
   "cell_type": "code",
   "execution_count": null,
   "id": "845c075d",
   "metadata": {},
   "outputs": [],
   "source": [
    "Rsw = np.zeros(nt)\n",
    "Rsw = run_sim(nt, dt, age, Jriv, Rriv, Rsw, Jh, Rh, N)"
   ]
  },
  {
   "cell_type": "code",
   "execution_count": null,
   "id": "d8e1eb97",
   "metadata": {},
   "outputs": [],
   "source": [
    "output_model = {'age':age, 'Rsw':Rsw}"
   ]
  },
  {
   "cell_type": "markdown",
   "id": "90b40cae",
   "metadata": {},
   "source": [
    "## Plot Model"
   ]
  },
  {
   "cell_type": "code",
   "execution_count": null,
   "id": "05e6f211",
   "metadata": {},
   "outputs": [],
   "source": [
    "#Import data\n",
    "\n",
    "#This study\n",
    "filePoz = pd.read_excel('../Data/PozarySr.xlsx')\n",
    "Pozarydata = filePoz[['Age','Sr']]\n",
    "\n",
    "PozaryAge = Pozarydata.Age.to_numpy()\n",
    "PozarySr = Pozarydata.Sr.to_numpy()"
   ]
  },
  {
   "cell_type": "code",
   "execution_count": null,
   "id": "cfb7a0e4",
   "metadata": {},
   "outputs": [],
   "source": [
    "#Plot model\n",
    "\n",
    "fig, (ax1, ax2, ax3) = plt.subplots(3, 1, figsize=(10,10))\n",
    "\n",
    "ax1.plot(age,Rriv, label=\"Riverine Sr Ratio\",color=\"green\")\n",
    "ax1.plot(age,Rh, label=\"Hydrothermal Sr Ratio\",color=\"blue\")\n",
    "ax1.set(ylabel='$\\mathregular{^{87}Sr/^{86}Sr}$')\n",
    "ax1.axhline(0.7119,linestyle='dashed', color=\"gray\")\n",
    "ax1.set_xbound(tmin,tmax)\n",
    "ax1.set_ybound(0.700,0.715)\n",
    "ax1.legend(loc='upper right')\n",
    "\n",
    "ax2.plot(age,Jriv, label=\"Riverine Sr Flux\",color=\"green\")\n",
    "ax2.plot(age,Jh, label=\"Hydrothermal Sr Flux\",color=\"blue\")\n",
    "ax2.set(ylabel='Sr Flux (mol/yr)')\n",
    "ax2.axhline(1.5e10,linestyle='dashed', color=\"gray\")\n",
    "ax2.set_xbound(tmin,tmax)\n",
    "ax2.set_ybound(1e10,4e10)\n",
    "ax2.legend(loc='upper right')\n",
    "\n",
    "ax3.scatter(PozaryAge,PozarySr, label=\"This Study\", color=\"black\")\n",
    "ax3.plot(output_model['age'],output_model['Rsw'], label=\"Model\", color=\"red\")\n",
    "ax3.set(ylabel='$\\mathregular{^{87}Sr/^{86}Sr}$')\n",
    "ax3.set(xlabel='Age (Ma)')\n",
    "ax3.set_xbound(tmin,tmax)\n",
    "ax3.set_ybound(0.7075,0.7105)\n",
    "ax3.legend(loc='upper right')"
   ]
  }
 ],
 "metadata": {
  "kernelspec": {
   "display_name": "Python 3 (ipykernel)",
   "language": "python",
   "name": "python3"
  },
  "language_info": {
   "codemirror_mode": {
    "name": "ipython",
    "version": 3
   },
   "file_extension": ".py",
   "mimetype": "text/x-python",
   "name": "python",
   "nbconvert_exporter": "python",
   "pygments_lexer": "ipython3",
   "version": "3.9.13"
  }
 },
 "nbformat": 4,
 "nbformat_minor": 5
}
