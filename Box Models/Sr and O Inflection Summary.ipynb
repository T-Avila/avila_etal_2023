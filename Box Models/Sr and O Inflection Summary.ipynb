{
 "cells": [
  {
   "cell_type": "markdown",
   "id": "c008c2be",
   "metadata": {},
   "source": [
    "# This file contains python code to calculate the average inflection age of the Sr and O Pozary data sets"
   ]
  },
  {
   "cell_type": "code",
   "execution_count": 1,
   "id": "8293cc9d",
   "metadata": {},
   "outputs": [],
   "source": [
    "# Import python modules\n",
    "\n",
    "from __future__ import division\n",
    "import numpy as np\n",
    "import pandas as pd\n",
    "import statsmodels.api as sm\n",
    "from scipy.stats import sem, t\n",
    "from scipy.interpolate import interp1d # for interpolation of new data points\n",
    "import statistics as stats\n",
    "import math as math"
   ]
  },
  {
   "cell_type": "code",
   "execution_count": 2,
   "id": "1925dbc0",
   "metadata": {},
   "outputs": [
    {
     "data": {
      "text/html": [
       "<div>\n",
       "<style scoped>\n",
       "    .dataframe tbody tr th:only-of-type {\n",
       "        vertical-align: middle;\n",
       "    }\n",
       "\n",
       "    .dataframe tbody tr th {\n",
       "        vertical-align: top;\n",
       "    }\n",
       "\n",
       "    .dataframe thead th {\n",
       "        text-align: right;\n",
       "    }\n",
       "</style>\n",
       "<table border=\"1\" class=\"dataframe\">\n",
       "  <thead>\n",
       "    <tr style=\"text-align: right;\">\n",
       "      <th></th>\n",
       "      <th>Fraction</th>\n",
       "      <th>Sr Inflection Age</th>\n",
       "      <th>O Inflection Age</th>\n",
       "    </tr>\n",
       "  </thead>\n",
       "  <tbody>\n",
       "    <tr>\n",
       "      <th>0</th>\n",
       "      <td>0.35</td>\n",
       "      <td>-422.681</td>\n",
       "      <td>-423.189</td>\n",
       "    </tr>\n",
       "    <tr>\n",
       "      <th>1</th>\n",
       "      <td>0.40</td>\n",
       "      <td>-422.681</td>\n",
       "      <td>-423.189</td>\n",
       "    </tr>\n",
       "    <tr>\n",
       "      <th>2</th>\n",
       "      <td>0.45</td>\n",
       "      <td>-422.681</td>\n",
       "      <td>-422.681</td>\n",
       "    </tr>\n",
       "    <tr>\n",
       "      <th>3</th>\n",
       "      <td>0.50</td>\n",
       "      <td>-422.681</td>\n",
       "      <td>-421.020</td>\n",
       "    </tr>\n",
       "    <tr>\n",
       "      <th>4</th>\n",
       "      <td>0.55</td>\n",
       "      <td>-422.681</td>\n",
       "      <td>-421.020</td>\n",
       "    </tr>\n",
       "    <tr>\n",
       "      <th>5</th>\n",
       "      <td>0.60</td>\n",
       "      <td>-422.681</td>\n",
       "      <td>-420.898</td>\n",
       "    </tr>\n",
       "    <tr>\n",
       "      <th>6</th>\n",
       "      <td>0.65</td>\n",
       "      <td>-422.681</td>\n",
       "      <td>-421.020</td>\n",
       "    </tr>\n",
       "    <tr>\n",
       "      <th>7</th>\n",
       "      <td>0.70</td>\n",
       "      <td>-422.681</td>\n",
       "      <td>-421.020</td>\n",
       "    </tr>\n",
       "    <tr>\n",
       "      <th>8</th>\n",
       "      <td>0.75</td>\n",
       "      <td>-422.681</td>\n",
       "      <td>-421.142</td>\n",
       "    </tr>\n",
       "    <tr>\n",
       "      <th>9</th>\n",
       "      <td>0.80</td>\n",
       "      <td>-421.373</td>\n",
       "      <td>-421.142</td>\n",
       "    </tr>\n",
       "    <tr>\n",
       "      <th>10</th>\n",
       "      <td>0.85</td>\n",
       "      <td>-421.142</td>\n",
       "      <td>-421.142</td>\n",
       "    </tr>\n",
       "    <tr>\n",
       "      <th>11</th>\n",
       "      <td>0.90</td>\n",
       "      <td>-419.827</td>\n",
       "      <td>-419.827</td>\n",
       "    </tr>\n",
       "  </tbody>\n",
       "</table>\n",
       "</div>"
      ],
      "text/plain": [
       "    Fraction  Sr Inflection Age  O Inflection Age\n",
       "0       0.35           -422.681          -423.189\n",
       "1       0.40           -422.681          -423.189\n",
       "2       0.45           -422.681          -422.681\n",
       "3       0.50           -422.681          -421.020\n",
       "4       0.55           -422.681          -421.020\n",
       "5       0.60           -422.681          -420.898\n",
       "6       0.65           -422.681          -421.020\n",
       "7       0.70           -422.681          -421.020\n",
       "8       0.75           -422.681          -421.142\n",
       "9       0.80           -421.373          -421.142\n",
       "10      0.85           -421.142          -421.142\n",
       "11      0.90           -419.827          -419.827"
      ]
     },
     "execution_count": 2,
     "metadata": {},
     "output_type": "execute_result"
    }
   ],
   "source": [
    "# Prepare data sets\n",
    "\n",
    "# Import csv files\n",
    "file35 = pd.read_csv('../Results/inf_35.csv')\n",
    "file40 = pd.read_csv('../Results/inf_40.csv')\n",
    "file45 = pd.read_csv('../Results/inf_45.csv')\n",
    "file50 = pd.read_csv('../Results/inf_50.csv')\n",
    "file55 = pd.read_csv('../Results/inf_55.csv')\n",
    "file60 = pd.read_csv('../Results/inf_60.csv')\n",
    "file65 = pd.read_csv('../Results/inf_65.csv')\n",
    "file70 = pd.read_csv('../Results/inf_70.csv')\n",
    "file75 = pd.read_csv('../Results/inf_75.csv')\n",
    "file80 = pd.read_csv('../Results/inf_80.csv')\n",
    "file85 = pd.read_csv('../Results/inf_85.csv')\n",
    "file90 = pd.read_csv('../Results/inf_90.csv')\n",
    "\n",
    "df = pd.concat([file35,file40,file45,file50,file55,file60,file65,file70,file75,file80,file85,file90], ignore_index='True')\n",
    "\n",
    "df"
   ]
  },
  {
   "cell_type": "code",
   "execution_count": 3,
   "id": "92a1f0f6",
   "metadata": {},
   "outputs": [
    {
     "name": "stdout",
     "output_type": "stream",
     "text": [
      "The 95% Confidence Interval for the inflection in Pozary Sr data is -422.2 Ma, +/- 0.6 My\n",
      "The minimum possible age of inflection is -422.7\n",
      "The maximum possible age of inflection is -419.8\n"
     ]
    }
   ],
   "source": [
    "#Calculate average Sr inflection\n",
    "\n",
    "Sr_inf = df['Sr Inflection Age']\n",
    "\n",
    "xi = stats.mean(Sr_inf)\n",
    "si = np.std(Sr_inf)\n",
    "mi = len(Sr_inf)\n",
    "a95i = 2.179 #t value for 12 samples\n",
    "\n",
    "CI95i = (si/math.sqrt(mi))*a95i\n",
    "\n",
    "print('The 95% Confidence Interval for the inflection in Pozary Sr data is',round(xi,1),'Ma, +/-',round(CI95i,1),'My')\n",
    "print('The minimum possible age of inflection is',round(min(Sr_inf),1))\n",
    "print('The maximum possible age of inflection is',round(max(Sr_inf),1))"
   ]
  },
  {
   "cell_type": "code",
   "execution_count": 4,
   "id": "c72298c2",
   "metadata": {},
   "outputs": [
    {
     "name": "stdout",
     "output_type": "stream",
     "text": [
      "The 95% Confidence Interval for the inflection in Pozary O data is -421.4 Ma, +/- 0.6 My\n",
      "The minimum possible age of inflection is -423.2\n",
      "The maximum possible age of inflection is -419.8\n"
     ]
    }
   ],
   "source": [
    "#Calculate average O inflection\n",
    "\n",
    "O_inf = df['O Inflection Age']\n",
    "\n",
    "xi = stats.mean(O_inf)\n",
    "si = np.std(O_inf)\n",
    "mi = len(O_inf)\n",
    "a95i = 2.179 #t value for 12 samples\n",
    "\n",
    "CI95i = (si/math.sqrt(mi))*a95i\n",
    "\n",
    "print('The 95% Confidence Interval for the inflection in Pozary O data is',round(xi,1),'Ma, +/-',round(CI95i,1),'My')\n",
    "print('The minimum possible age of inflection is',round(min(O_inf),1))\n",
    "print('The maximum possible age of inflection is',round(max(O_inf),1))"
   ]
  }
 ],
 "metadata": {
  "kernelspec": {
   "display_name": "Python 3 (ipykernel)",
   "language": "python",
   "name": "python3"
  },
  "language_info": {
   "codemirror_mode": {
    "name": "ipython",
    "version": 3
   },
   "file_extension": ".py",
   "mimetype": "text/x-python",
   "name": "python",
   "nbconvert_exporter": "python",
   "pygments_lexer": "ipython3",
   "version": "3.9.13"
  }
 },
 "nbformat": 4,
 "nbformat_minor": 5
}
